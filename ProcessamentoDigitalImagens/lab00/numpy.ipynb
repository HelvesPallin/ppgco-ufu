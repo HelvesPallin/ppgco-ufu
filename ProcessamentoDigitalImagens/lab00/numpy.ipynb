{
 "cells": [
  {
   "cell_type": "code",
   "execution_count": 12,
   "metadata": {},
   "outputs": [
    {
     "name": "stdout",
     "output_type": "stream",
     "text": [
      "[[1. 1.]\n",
      " [1. 1.]]\n"
     ]
    }
   ],
   "source": [
    "%run ..\\main\\functions.ipynb\n",
    "\n",
    "def matrix():\n",
    "    x = int(input(\"Nº de linhas: \"))\n",
    "    y = int(input(\"Nº de colunas :\"))\n",
    "    mtx = create_matrix(x,y)\n",
    "    print(mtx)\n",
    "matrix()"
   ]
  }
 ],
 "metadata": {
  "kernelspec": {
   "display_name": "Python 3",
   "language": "python",
   "name": "python3"
  },
  "language_info": {
   "codemirror_mode": {
    "name": "ipython",
    "version": 3
   },
   "file_extension": ".py",
   "mimetype": "text/x-python",
   "name": "python",
   "nbconvert_exporter": "python",
   "pygments_lexer": "ipython3",
   "version": "3.11.4"
  },
  "orig_nbformat": 4
 },
 "nbformat": 4,
 "nbformat_minor": 2
}
