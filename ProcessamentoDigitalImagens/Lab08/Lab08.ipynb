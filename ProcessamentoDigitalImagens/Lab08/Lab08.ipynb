{
 "cells": [
  {
   "cell_type": "code",
   "execution_count": null,
   "metadata": {},
   "outputs": [],
   "source": [
    "import cv2\n",
    "import matplotlib.pyplot as plt\n",
    "import numpy as np"
   ]
  },
  {
   "cell_type": "markdown",
   "metadata": {},
   "source": [
    "1. Aplique nas imagens abaixo o algortimo Watershed para realizar a contagem de células. Faça tanto para a imagem original e para a imagem gradiente"
   ]
  },
  {
   "cell_type": "code",
   "execution_count": null,
   "metadata": {},
   "outputs": [],
   "source": [
    "img1 = cv2.imread(\"image.jpg\", cv2.IMREAD_GRAYSCALE)\n",
    "\n",
    "plt.imshow(img1, cmap='gray', vmin=0, vmax=255)"
   ]
  },
  {
   "cell_type": "code",
   "execution_count": null,
   "metadata": {},
   "outputs": [],
   "source": [
    "img2 = cv2.imread(\"image2.jpg\", cv2.IMREAD_GRAYSCALE)\n",
    "\n",
    "plt.imshow(img2, cmap='gray', vmin=0, vmax=255)"
   ]
  },
  {
   "cell_type": "code",
   "execution_count": null,
   "metadata": {},
   "outputs": [],
   "source": [
    "img3 = cv2.imread(\"feijao.jpg\", cv2.IMREAD_GRAYSCALE)\n",
    "\n",
    "plt.imshow(img3, cmap='gray', vmin=0, vmax=255)"
   ]
  }
 ],
 "metadata": {
  "language_info": {
   "name": "python"
  }
 },
 "nbformat": 4,
 "nbformat_minor": 2
}
