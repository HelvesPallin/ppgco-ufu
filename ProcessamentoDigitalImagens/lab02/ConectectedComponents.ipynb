{
 "cells": [
  {
   "cell_type": "code",
   "execution_count": 9,
   "metadata": {},
   "outputs": [
    {
     "ename": "AttributeError",
     "evalue": "module 'cv2' has no attribute 'waitkey'",
     "output_type": "error",
     "traceback": [
      "\u001b[1;31m---------------------------------------------------------------------------\u001b[0m",
      "\u001b[1;31mAttributeError\u001b[0m                            Traceback (most recent call last)",
      "Cell \u001b[1;32mIn[9], line 13\u001b[0m\n\u001b[0;32m      9\u001b[0m cv2\u001b[39m.\u001b[39mimwrite(\u001b[39m\"\u001b[39m\u001b[39mimg/art8/art8Labeled.png\u001b[39m\u001b[39m\"\u001b[39m, imgLabeled)\n\u001b[0;32m     11\u001b[0m cv2\u001b[39m.\u001b[39mimshow(\u001b[39m\"\u001b[39m\u001b[39mimgLabeled\u001b[39m\u001b[39m\"\u001b[39m, imgLabeled)\n\u001b[1;32m---> 13\u001b[0m cv2\u001b[39m.\u001b[39;49mwaitkey(\u001b[39m0\u001b[39m)\n\u001b[0;32m     15\u001b[0m cv2\u001b[39m.\u001b[39mdestroyAllWindows()\n\u001b[0;32m     17\u001b[0m \u001b[39mprint\u001b[39m(\u001b[39mf\u001b[39m\u001b[39m\"\u001b[39m\u001b[39mA imagem tem \u001b[39m\u001b[39m{\u001b[39;00mobjects\u001b[39m}\u001b[39;00m\u001b[39m objetos.\u001b[39m\u001b[39m\"\u001b[39m)\n",
      "\u001b[1;31mAttributeError\u001b[0m: module 'cv2' has no attribute 'waitkey'"
     ]
    },
    {
     "ename": "",
     "evalue": "",
     "output_type": "error",
     "traceback": [
      "\u001b[1;31mThe Kernel crashed while executing code in the the current cell or a previous cell. Please review the code in the cell(s) to identify a possible cause of the failure. Click <a href='https://aka.ms/vscodeJupyterKernelCrash'>here</a> for more info. View Jupyter <a href='command:jupyter.viewOutput'>log</a> for further details."
     ]
    }
   ],
   "source": [
    "%run ..\\main\\functions.ipynb\n",
    "\n",
    "img = cv2.imread(\"img/art8/art8.png\", cv2.IMREAD_GRAYSCALE)\n",
    "\n",
    "tr, imgBinary = cv2.threshold(img, 127, 255, cv2.THRESH_BINARY)\n",
    " \n",
    "objects, imgLabeled = img_object_count(imgBinary)\n",
    "\n",
    "cv2.imwrite(\"img/art8/art8Labeled.png\", imgLabeled)\n",
    "\n",
    "cv2.imshow(\"imgLabeled\", imgLabeled)\n",
    "\n",
    "cv2.waitKey(0)\n",
    "\n",
    "cv2.destroyAllWindows()\n",
    "\n",
    "print(f\"A imagem tem {objects} objetos.\")"
   ]
  }
 ],
 "metadata": {
  "kernelspec": {
   "display_name": "Python 3",
   "language": "python",
   "name": "python3"
  },
  "language_info": {
   "codemirror_mode": {
    "name": "ipython",
    "version": 3
   },
   "file_extension": ".py",
   "mimetype": "text/x-python",
   "name": "python",
   "nbconvert_exporter": "python",
   "pygments_lexer": "ipython3",
   "version": "3.11.4"
  },
  "orig_nbformat": 4
 },
 "nbformat": 4,
 "nbformat_minor": 2
}
