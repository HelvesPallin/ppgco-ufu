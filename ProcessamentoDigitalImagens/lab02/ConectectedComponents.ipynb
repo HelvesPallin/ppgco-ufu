{
 "cells": [
  {
   "cell_type": "code",
   "execution_count": 8,
   "metadata": {},
   "outputs": [
    {
     "name": "stdout",
     "output_type": "stream",
     "text": [
      "A imagem tem 9 objetos.\n"
     ]
    }
   ],
   "source": [
    "%run ..\\main\\functions.ipynb\n",
    "\n",
    "img = cv2.imread(\"img/art8/art8.png\", cv2.IMREAD_GRAYSCALE)\n",
    "\n",
    "tr, imgBinary = cv2.threshold(img, 127, 255, cv2.THRESH_BINARY)\n",
    " \n",
    "objects, imgLabeled = img_object_count(imgBinary)\n",
    "\n",
    "cv2.imwrite(\"img/art8/art8Labeled.png\", imgLabeled)\n",
    "\n",
    "cv2.imshow(\"imgLabeled\", imgLabeled)\n",
    "\n",
    "cv2.waitKey(0)\n",
    "\n",
    "cv2.destroyAllWindows()\n",
    "\n",
    "print(f\"A imagem tem {objects} objetos.\")"
   ]
  }
 ],
 "metadata": {
  "kernelspec": {
   "display_name": "Python 3",
   "language": "python",
   "name": "python3"
  },
  "language_info": {
   "codemirror_mode": {
    "name": "ipython",
    "version": 3
   },
   "file_extension": ".py",
   "mimetype": "text/x-python",
   "name": "python",
   "nbconvert_exporter": "python",
   "pygments_lexer": "ipython3",
   "version": "3.11.4"
  },
  "orig_nbformat": 4
 },
 "nbformat": 4,
 "nbformat_minor": 2
}
