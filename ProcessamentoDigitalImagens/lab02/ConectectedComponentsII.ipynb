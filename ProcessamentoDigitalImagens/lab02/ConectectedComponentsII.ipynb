{
 "cells": [
  {
   "cell_type": "code",
   "execution_count": 4,
   "metadata": {},
   "outputs": [
    {
     "name": "stdout",
     "output_type": "stream",
     "text": [
      "A imagem tem 163 objetos.\n"
     ]
    }
   ],
   "source": [
    "import cv2\n",
    "import numpy as np\n",
    "\n",
    "def img_object_search(mtx, pixel, label, neighborhood):\n",
    "    x, y = pixel\n",
    "    mtx[x, y] = label\n",
    "    pixelArray = [pixel]\n",
    "    while pixelArray:\n",
    "         x, y = pixelArray.pop()\n",
    "         for i in neighbor(mtx, x, y, neighborhood):\n",
    "             nx, ny = i\n",
    "             labeled = mtx[nx, ny]\n",
    "             if labeled > 0 and labeled != label:\n",
    "                 mtx[nx, ny] = label\n",
    "                 pixelArray.append(i)     \n",
    "\n",
    "def neighbor(mtx, x, y, neighborhood):\n",
    "    neighbor = []\n",
    "    if x+1 < mtx.shape[0]:\n",
    "        if neighborhood == 8 and y+1 < mtx.shape[1]:\n",
    "            neighbor.append((x+1, y+1))\n",
    "        neighbor.append((x+1, y))\n",
    "    if x-1 >= 0:\n",
    "        if neighborhood == 8 and y-1 >= 0:\n",
    "            neighbor.append((x-1, y-1))            \n",
    "        neighbor.append((x-1, y))\n",
    "    if y+1 < mtx.shape[1]:\n",
    "        if neighborhood == 8 and x-1 >= 0:\n",
    "            neighbor.append((x-1, y+1))\n",
    "        neighbor.append((x, y+1))\n",
    "    if y-1 >= 0:\n",
    "        if neighborhood == 8 and x+1 < mtx.shape[0]:\n",
    "            neighbor.append((x+1, y-1))\n",
    "        neighbor.append((x, y-1))\n",
    "    return neighbor\n",
    "\n",
    "def img_object_count(img):\n",
    "    mtx = np.matrix(img)\n",
    "    neighborhood = int(input(\"Vizinhança: \"))\n",
    "    label = 10\n",
    "    objects = 0\n",
    "    for x in range(mtx.shape[0]):\n",
    "        for y in range(mtx.shape[1]):\n",
    "            labeled = mtx[x, y]\n",
    "            if labeled == 255 and labeled != label:\n",
    "                objects += 1\n",
    "                img_object_search(mtx, (x, y), label, neighborhood)\n",
    "                label += 1\n",
    "    return objects, mtx\n",
    "\n",
    "img = cv2.imread(\"img/clc3/clc3.png\", cv2.IMREAD_GRAYSCALE)\n",
    "\n",
    "tr, imgBinary = cv2.threshold(img, 151, 255, cv2.THRESH_BINARY_INV)\n",
    "\n",
    "objects, imgLabeled = img_object_count(imgBinary)\n",
    "\n",
    "cv2.imwrite(\"img/clc3/clc3Labeled.png\", imgLabeled)\n",
    "\n",
    "cv2.imshow(\"imgLabeled\", imgLabeled)\n",
    "\n",
    "cv2.waitKey(0)\n",
    "\n",
    "cv2.destroyAllWindows()\n",
    "\n",
    "print(f\"A imagem tem {objects} objetos.\")\n"
   ]
  }
 ],
 "metadata": {
  "kernelspec": {
   "display_name": "Python 3",
   "language": "python",
   "name": "python3"
  },
  "language_info": {
   "codemirror_mode": {
    "name": "ipython",
    "version": 3
   },
   "file_extension": ".py",
   "mimetype": "text/x-python",
   "name": "python",
   "nbconvert_exporter": "python",
   "pygments_lexer": "ipython3",
   "version": "3.11.4"
  },
  "orig_nbformat": 4
 },
 "nbformat": 4,
 "nbformat_minor": 2
}
