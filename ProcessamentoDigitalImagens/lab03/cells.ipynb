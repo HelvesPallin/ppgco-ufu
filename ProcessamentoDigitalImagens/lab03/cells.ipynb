{
 "cells": [
  {
   "cell_type": "code",
   "execution_count": 8,
   "metadata": {},
   "outputs": [
    {
     "name": "stdout",
     "output_type": "stream",
     "text": [
      "245.0\n"
     ]
    }
   ],
   "source": [
    "import numpy as np\n",
    "import cv2\n",
    "\n",
    "def negative(img):\n",
    "    mtx = np.matrix(img)\n",
    "    mtx = 255-mtx\n",
    "    return mtx\n",
    "\n",
    "def logFunc(img):\n",
    "    mtx = np.matrix(img)\n",
    "    constant = round(255/np.log(1+np.max(mtx)))\n",
    "    logMtx = constant*(np.round(np.log(1+mtx)))\n",
    "    return logMtx\n",
    "\n",
    "img = cv2.imread(\"im_cells/im_cells.png\", cv2.IMREAD_GRAYSCALE)\n",
    "\n",
    "imgNegative = negative(img)\n",
    "\n",
    "imgNegativeNegative = negative(imgNegative)\n",
    "\n",
    "imgLog = logFunc(img)\n",
    "\n",
    "cv2.imwrite(\"im_cells/im_cellsNegative.png\", imgNegative)\n",
    "\n",
    "cv2.imwrite(\"im_cells/im_cellsNegativeNegative.png\", imgNegativeNegative)\n",
    "\n",
    "cv2.imwrite(\"im_cells/im_cellsLog.png\", imgLog)\n",
    "\n",
    "cv2.imshow(\"img\", img)\n",
    "\n",
    "cv2.waitKey(0)\n",
    "\n",
    "cv2.imshow(\"imgNegative\", imgNegative)\n",
    "\n",
    "cv2.waitKey(0)\n",
    "\n",
    "cv2.imshow(\"imgNegativeNegative\", imgNegativeNegative)\n",
    "\n",
    "cv2.waitKey(0)\n",
    "\n",
    "cv2.imshow(\"imgLog\", imgLog)\n",
    "\n",
    "cv2.waitKey(0)\n",
    "\n",
    "cv2.destroyAllWindows()"
   ]
  }
 ],
 "metadata": {
  "kernelspec": {
   "display_name": "Python 3",
   "language": "python",
   "name": "python3"
  },
  "language_info": {
   "codemirror_mode": {
    "name": "ipython",
    "version": 3
   },
   "file_extension": ".py",
   "mimetype": "text/x-python",
   "name": "python",
   "nbconvert_exporter": "python",
   "pygments_lexer": "ipython3",
   "version": "3.11.4"
  },
  "orig_nbformat": 4
 },
 "nbformat": 4,
 "nbformat_minor": 2
}
