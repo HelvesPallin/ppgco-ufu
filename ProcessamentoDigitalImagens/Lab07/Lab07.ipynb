{
 "cells": [
  {
   "cell_type": "code",
   "execution_count": null,
   "metadata": {},
   "outputs": [],
   "source": [
    "import cv2\n",
    "import matplotlib.pyplot as plt\n",
    "import numpy as np"
   ]
  },
  {
   "cell_type": "markdown",
   "metadata": {},
   "source": [
    "1. A partir da imagem original obtenha as outras imagens conforme descrição\n",
    "Desejamos separar linhas de círculos. Uma operação de abertura com um elemento estruturante na forma de círculo (definir o raio) faz essa tarefa."
   ]
  },
  {
   "cell_type": "code",
   "execution_count": null,
   "metadata": {},
   "outputs": [],
   "source": [
    "img1 = cv2.imread(\"art3.png\", cv2.IMREAD_GRAYSCALE)\n",
    "\n",
    "plt.imshow(img1, cmap='gray', vmin=0, vmax=255)"
   ]
  },
  {
   "cell_type": "markdown",
   "metadata": {},
   "source": [
    "2. \n",
    "a) Obter linhas verticais. Abertura com elemento estruturante vertical 3x9 b) Obter linhas horizontais. Abertura com elemento estruturante horizontal 9x3. Tente eliminar as linhas erradas usando uma máscara maior"
   ]
  },
  {
   "cell_type": "code",
   "execution_count": null,
   "metadata": {},
   "outputs": [],
   "source": [
    "img2 = cv2.imread(\"art2.png\", cv2.IMREAD_GRAYSCALE)\n",
    "\n",
    "plt.imshow(img2, cmap='gray', vmin=0, vmax=255)"
   ]
  },
  {
   "cell_type": "markdown",
   "metadata": {},
   "source": [
    "3. \n",
    "a) Theshold (t=210)\n",
    "\n",
    "b) Utilizando abertura com elemento circular de 11 pixels para reter as células grandes\n",
    "\n",
    "c) É possível reter somente os objetos pequenos utilizando a operação abertura?"
   ]
  },
  {
   "cell_type": "code",
   "execution_count": null,
   "metadata": {},
   "outputs": [],
   "source": [
    "img3 = cv2.imread(\"cel4.png\", cv2.IMREAD_GRAYSCALE)\n",
    "\n",
    "plt.imshow(img3, cmap='gray', vmin=0, vmax=255)"
   ]
  },
  {
   "cell_type": "markdown",
   "metadata": {},
   "source": [
    "4. \n",
    "Utilizando os conceitos já aprendidos na disciplina, faça um código que calcula a quantidade de objetos da imagem abaixo. Pode-se utilizar funções prontas do opencv (não para realizar a contagem em si, mas para realizar os passos necessários)"
   ]
  },
  {
   "cell_type": "code",
   "execution_count": null,
   "metadata": {},
   "outputs": [],
   "source": [
    "img4 = cv2.imread(\"feijao.jpg\", cv2.IMREAD_GRAYSCALE)\n",
    "\n",
    "plt.imshow(img4, cmap='gray', vmin=0, vmax=255)"
   ]
  },
  {
   "cell_type": "markdown",
   "metadata": {},
   "source": [
    "5. Utilize a transformada hit or miss para localizar o logotipo da UFU. Escolha um deles"
   ]
  },
  {
   "cell_type": "code",
   "execution_count": null,
   "metadata": {},
   "outputs": [],
   "source": [
    "img5 = cv2.imread(\"logotipos.png\", cv2.IMREAD_GRAYSCALE)\n",
    "\n",
    "plt.imshow(img5, cmap='gray', vmin=0, vmax=255)"
   ]
  }
 ],
 "metadata": {
  "language_info": {
   "name": "python"
  }
 },
 "nbformat": 4,
 "nbformat_minor": 2
}
