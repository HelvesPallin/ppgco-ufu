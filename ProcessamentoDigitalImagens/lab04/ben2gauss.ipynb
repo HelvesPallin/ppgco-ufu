{
 "cells": [
  {
   "cell_type": "code",
   "execution_count": 19,
   "metadata": {},
   "outputs": [],
   "source": [
    "import cv2\n",
    "import numpy as np\n",
    "\n",
    "img = cv2.imread(\"ben2/ben2.png\", cv2.IMREAD_GRAYSCALE)\n",
    "\n",
    "imgFiltered = workImg = np.array(img)\n",
    "\n",
    "def gaussMaskCreate(maskSize, sigma):\n",
    "    gaussMask = np.zeros((maskSize,maskSize))    \n",
    "    e = 1 / (2 * np.pi * sigma**2)\n",
    "    for i in range(maskSize):\n",
    "        for j in range(maskSize):\n",
    "            x = i - (maskSize // 2)\n",
    "            y = j - (maskSize // 2)\n",
    "            gaussMask[i, j] = np.ceil(e * np.exp(-(x**2 + y**2) / (2 * sigma**2))*255).astype(np.uint8)\n",
    "    return gaussMask\n",
    "\n",
    "def grow_matrix(img, maskSize):\n",
    "    for i in range(int((maskSize-1)/2)):\n",
    "        row = np.zeros(img.shape[1])\n",
    "        img = np.vstack((row, img))\n",
    "        img = np.vstack((img, row))\n",
    "        column = np.zeros(img.shape[0])\n",
    "        img = np.hstack((img, column.reshape(-1,1)))\n",
    "        img = np.hstack((column.reshape(-1,1), img))\n",
    "    return img\n",
    "\n",
    "maskSize = int(input('Tamanho da mascara(Impar): '))\n",
    "\n",
    "sigma = int(input('Desvio padrão: '))\n",
    "\n",
    "gaussMask = gaussMaskCreate(maskSize, sigma)\n",
    "\n",
    "workImg = grow_matrix(workImg, maskSize)\n",
    "\n",
    "maskRange = int((maskSize-1)/2)\n",
    "\n",
    "for i in range(maskRange,workImg.shape[0]-maskRange):\n",
    "    for j in range(maskRange,workImg.shape[1]-maskRange):\n",
    "        imgSector = workImg[i-maskRange:i+(maskRange+1), j-maskRange:j+(maskRange+1)]\n",
    "        pixel = np.sum(imgSector*gaussMask)/np.sum(gaussMask)\n",
    "        imgFiltered[i-maskRange,j-maskRange] = pixel\n",
    "\n",
    "cv2.imshow('Imagem Original', img)\n",
    "cv2.imshow('Imagem Filtrada', imgFiltered)\n",
    "cv2.waitKey(0)\n",
    "cv2.destroyAllWindows()\n"
   ]
  }
 ],
 "metadata": {
  "kernelspec": {
   "display_name": "Python 3",
   "language": "python",
   "name": "python3"
  },
  "language_info": {
   "codemirror_mode": {
    "name": "ipython",
    "version": 3
   },
   "file_extension": ".py",
   "mimetype": "text/x-python",
   "name": "python",
   "nbconvert_exporter": "python",
   "pygments_lexer": "ipython3",
   "version": "3.11.4"
  },
  "orig_nbformat": 4
 },
 "nbformat": 4,
 "nbformat_minor": 2
}
