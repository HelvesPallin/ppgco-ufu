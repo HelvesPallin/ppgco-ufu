{
 "cells": [
  {
   "cell_type": "code",
   "execution_count": 2,
   "metadata": {},
   "outputs": [],
   "source": [
    "import cv2\n",
    "import numpy as np\n",
    "import numpy.random as nrp \n",
    "import matplotlib.pyplot as plt\n",
    "import matplotlib.pyplot as pltimage\n",
    "\n",
    "def create_matrix(row,column):\n",
    "    mtx = np.zeros((row,column))\n",
    "    for x in range(row):\n",
    "        for y in range(column):\n",
    "            mtx[x,y] = int(input(f'Valor da posição [{x},{y}]: '))\n",
    "    return mtx\n",
    "\n"
   ]
  }
 ],
 "metadata": {
  "kernelspec": {
   "display_name": "Python 3",
   "language": "python",
   "name": "python3"
  },
  "language_info": {
   "codemirror_mode": {
    "name": "ipython",
    "version": 3
   },
   "file_extension": ".py",
   "mimetype": "text/x-python",
   "name": "python",
   "nbconvert_exporter": "python",
   "pygments_lexer": "ipython3",
   "version": "3.11.4"
  },
  "orig_nbformat": 4
 },
 "nbformat": 4,
 "nbformat_minor": 2
}
