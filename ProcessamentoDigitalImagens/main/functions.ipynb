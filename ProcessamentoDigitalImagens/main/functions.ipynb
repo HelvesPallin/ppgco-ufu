{
 "cells": [
  {
   "cell_type": "code",
   "execution_count": 8,
   "metadata": {},
   "outputs": [],
   "source": [
    "import cv2\n",
    "import math\n",
    "import numpy as np\n",
    "import numpy.random as nrp \n",
    "import matplotlib.pyplot as plt\n",
    "import matplotlib.pyplot as pltimage\n",
    "\n",
    "def create_matrix(row,column):\n",
    "    mtx = np.zeros((row,column))\n",
    "    for x in range(row):\n",
    "        for y in range(column):\n",
    "            mtx[x,y] = int(input(f'Valor da posição [{x},{y}]: '))\n",
    "    return mtx\n",
    "\n",
    "def img_resampling(img, proportion):\n",
    "    mtx = img[0:img.shape[0]+1:proportion, 0:img.shape[1]:proportion]\n",
    "    return mtx\n",
    "\n",
    "def img_requantization(img, proportion):\n",
    "    mtx = np.matrix(img)\n",
    "    for x in range(img.shape[0]):\n",
    "        for y in range(img.shape[1]):\n",
    "            if mtx [x,y] > 127:\n",
    "                mtx[x,y] = (math.ceil(img[x,y]/(256/(2**proportion)))*(256/(2**proportion)))-1\n",
    "            else:\n",
    "                mtx[x,y] = (math.floor(img[x,y]/(256/(2**proportion)))*(256/(2**proportion)))+1\n",
    "    return mtx\n",
    "\n"
   ]
  }
 ],
 "metadata": {
  "kernelspec": {
   "display_name": "Python 3",
   "language": "python",
   "name": "python3"
  },
  "language_info": {
   "codemirror_mode": {
    "name": "ipython",
    "version": 3
   },
   "file_extension": ".py",
   "mimetype": "text/x-python",
   "name": "python",
   "nbconvert_exporter": "python",
   "pygments_lexer": "ipython3",
   "version": "3.11.4"
  },
  "orig_nbformat": 4
 },
 "nbformat": 4,
 "nbformat_minor": 2
}
